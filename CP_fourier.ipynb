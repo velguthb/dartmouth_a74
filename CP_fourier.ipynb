{
 "cells": [
  {
   "cell_type": "markdown",
   "id": "b9644d10-312e-43ec-8e9c-439f8da3dc92",
   "metadata": {},
   "source": [
    "# Class Work - Fourier Transforms\n",
    "This notebook will be a brief introduction to Fourier Transforms (FT) and their uses in astronomy. The Fourier Transform is one of the most important tools in any sort of signal processing you might be carying out. Developed in the early 1800s to aid in the describe the flow of heat, the Fourier transform allows you to break down *any* signal as a series of sine waves. The key concept to recognize with a FT is that it transforms your data from the time-domain to the frequency-domain. That is to say that if your data represents a seriese of measurments through time (such as a light curve in astronomy) the FT of that data will represent the contributing power of frequencies for that signal. A peak in the FT at some frequency means that frequency strongly contributes to the overall shape of the signal.\n",
    "\n",
    "We will break this project down into two sections, an analytical section and a practical section. The analytical section will introduce you to Fourier Transforms, how to solve them for some defined function, $f(t)$, and how to understand what they imply. The practical section will introduce you to tools you can use to decompose time series data into frequency space data as as astronomer. \n",
    "\n",
    "This notebook was written by Emily Boudreaux for A74 in F24.\n"
   ]
  },
  {
   "cell_type": "markdown",
   "id": "9dcfc038-bdef-4c42-a481-2d9606e3c354",
   "metadata": {},
   "source": [
    "# The Fourier Transform\n",
    "Fourier transforms take some function, $f(t)$, and decompose it to frequency components. Fourier originally found two forms of the Fourier Transform. The cosine transform\n",
    "\n",
    "$$\n",
    "F(\\omega) = \\frac{2}{\\pi}\\int_{0}^{\\infty}f(t)\\cos(\\omega t)dt \n",
    "$$\n",
    "$$\n",
    "f(t) = \\int_{0}^{\\infty}F(\\omega)\\cos(\\omega t)d\\nu\n",
    "$$\n",
    "\n",
    "and the sine transformation.\n",
    "\n",
    "$$\n",
    "F(\\omega) = \\frac{2}{\\pi}\\int_{0}^{\\infty}f(t)\\sin(\\omega t)dt \n",
    "$$\n",
    "$$\n",
    "f(t) = \\int_{0}^{\\infty}F(\\omega)\\sin(\\omega t)d\\nu\n",
    "$$\n",
    "\n",
    "Much more commonly today we will use Euler's Forumula to build a slightly more general definition which, incidently, is also often simpler to integrate.\n",
    "\n",
    "First Recall Euler's Formula\n",
    "$$\n",
    "e^{i\\theta} = \\cos(\\theta) + i\\sin(\\theta)\n",
    "$$\n",
    "We can then use this to pull out the strength of a function at some frequency...\n",
    "\n",
    "$$\n",
    "F(\\omega) = \\int_{-\\infty}^{\\infty}f(t)e^{-i\\omega t}dt\n",
    "$$\n",
    "$$\n",
    "f(t) = \\frac{1}{2\\pi}\\int_{-\\infty}^{\\infty}F(\\omega)e^{i\\omega t}d\\omega\n",
    "$$\n",
    "\n",
    "Lets think about what this is doing. Note how the form of the fourier transform is a projection (or inner product) of $f(t)$ onto $e^{i\\omega t}$. In the FT $e^{-i \\omega t}$ acts as a probe as to the strength of $f(t)$ at frequency $\\omega$. That is to say that $|F(\\omega)|$ is the magnitude of $f(t)$ at $\\omega$.\n",
    "\n",
    "One might expect that simple example of this would be to take the fourier transform of a sine wave\n",
    "\n",
    "$$\n",
    "\\begin{align}\n",
    "f(t) &= \\sin(\\omega_{0} t) \\\\\n",
    "F(\\omega) &= \\int_{-\\infty}^{\\infty}\\sin(\\omega_{0} t)e^{-i\\omega t}dt\n",
    "\\end{align}\n",
    "$$\n",
    "\n",
    "However, if you were to try to work through this in the most straightforward manner you will find that this integral does not converge. This should make sense as $\\sin(\\omega t)$ oscillates forever and therefore there is infinite area under this curve. However, we can also intuitivley understand that the frequency space transformation of a sine wave should have the form of a dirac delta function, $\\delta(\\omega)$. In order to find this we need to decompose the $f(t)$ using Euler's formula\n",
    "\n",
    "$$\n",
    "\\begin{align}\n",
    "    \\sin(\\omega_{0} t) &= \\frac{e^{i\\omega_{0}t} - e^{-i\\omega_{0}t}}{2i} \\\\\n",
    "    F(\\omega) &= \\int_{-\\infty}^{\\infty}\\frac{e^{i\\omega_{0}t} - e^{-i\\omega_{0}t}}{2i}e^{-i\\omega t}dt \\\\\n",
    "    F(\\omega) &= \\frac{1}{2i}\\left(\\int_{-\\infty}^{\\infty}e^{i(\\omega_{0}-\\omega)t}dt - \\int_{-\\infty}^{\\infty}e^{-i(\\omega_{0}+\\omega)t}dt\\right)\n",
    "\\end{align}\n",
    "$$\n",
    "\n",
    "Now recall the dirac delta function (distribution), $\\delta(\\alpha)$,\n",
    "$$\n",
    "\\delta(\\alpha) = \\frac{1}{2\\pi}\\int_{-\\infty}^{\\infty}e^{it\\alpha}dt \\hspace{1cm} \\delta(\\alpha) = \\begin{cases}\n",
    "\\infty & \\alpha = 0 \\\\\n",
    "0 & \\alpha \\neq 0\n",
    "\\end{cases}\n",
    "$$\n",
    "Note how this is similar to the form we have in our fourier integrand with $\\alpha=\\omega_{0} - \\omega$ and $\\alpha=-\\omega_{0}-\\omega$. Therefore\n",
    "$$\n",
    "\\begin{align}\n",
    "F(\\omega) &= \\frac{1}{2i}\\left(2\\pi\\delta(\\omega_{0}-\\omega) - 2\\pi\\delta(-\\omega_{0}-\\omega)\\right)\\\\\n",
    "F(\\omega) &= \\frac{\\pi}{i}\\left(\\delta(\\omega_{0}-\\omega) - \\delta(-\\omega_{0}-\\omega)\\right)\n",
    "\\end{align}\n",
    "$$\n",
    "The dirac delta function is only non zero when $\\alpha=0$, therefore when\n",
    "$$\n",
    "\\begin{align}\n",
    "\\omega_{0} - \\omega &= 0 \\\\\n",
    "\\omega_{0} &= \\omega\n",
    "\\end{align}\n",
    "$$\n",
    "and\n",
    "$$\n",
    "\\begin{align}\n",
    "-\\omega_{0} - \\omega &= 0 \\\\\n",
    "-\\omega_{0} &= \\omega\n",
    "\\end{align}\n",
    "$$\n",
    "So we can see that the only frequencies where this function does not evlauate to 0 are $\\omega=\\pm\\omega_{0}$. This is the original frequency we may have expected and that same frequency reflected about $\\omega=0$. Note how this would not have been solvable without invoking the dirac delta function. The fourier transform (without the dirac delta function) is therefore only usable on functions, $f(t)$, where\n",
    "$$\n",
    "\\lim_{t\\rightarrow\\infty}f(t) = 0\n",
    "$$\n",
    "and\n",
    "$$\n",
    "\\lim_{t\\rightarrow-\\infty}f(t) = 0\n",
    "$$\n",
    "However, by incorperating $\\delta$ we are able to evlatute the fourier transform for a much wider set of functions."
   ]
  },
  {
   "cell_type": "code",
   "execution_count": 5,
   "id": "e2b9d266-dc8d-4168-9557-acf30bbcbc43",
   "metadata": {},
   "outputs": [],
   "source": [
    "import numpy as np\n",
    "import matplotlib.pyplot as plt\n",
    "\n",
    "@np.vectorize\n",
    "def diracDelta(alpha):\n",
    "    if alpha==0:\n",
    "        return 1\n",
    "    else:\n",
    "        return 0"
   ]
  },
  {
   "cell_type": "markdown",
   "id": "55a4e47d-5a7d-47f4-ac6b-4442b53c6616",
   "metadata": {},
   "source": [
    "## Q1. Computing FT's anaytically (4 pts)\n",
    "Find the fourier transform (either by hand or using CAS systems such as mathematica or sympy. However, you may not simply ask a CAS to find the fourier transform of the function [i.e. you may use it for algebra and calculus]) of the following function. Make a plot of both $f(t)$ and $F(\\omega)$. Does the frequency space representation make sense given the form of $f(t)$? What frequencies do you find compose $f(t)$?\n",
    "\n",
    "$$\n",
    "f(t) = \\sin(2\\pi t) + \\cos\\left(\\frac{4\\pi\\omega_{0}}{3}t\\right)\n",
    "$$"
   ]
  },
  {
   "cell_type": "markdown",
   "id": "13119ea4-9694-461a-b3c4-f8f21a2c5818",
   "metadata": {},
   "source": [
    "**Your answer here** (double click to edit):"
   ]
  },
  {
   "cell_type": "code",
   "execution_count": 4,
   "id": "279e8c30-2aab-4e52-b4a7-604bc7985e42",
   "metadata": {},
   "outputs": [],
   "source": [
    "#Code here..."
   ]
  },
  {
   "cell_type": "markdown",
   "id": "ab5a2367-dab4-4dc8-9334-7376c583dfe5",
   "metadata": {},
   "source": [
    "# Transforming time series data into frequency space\n",
    "## Building a periodigram\n",
    "Included in this class work there is a file called lc.dat. Read this file in with python. You can use any parsing scheme you want; however, I recomend pandas here. After you read in the data plot it so you can see what it looks like in the time domain."
   ]
  },
  {
   "cell_type": "code",
   "execution_count": 1,
   "id": "7f3b3b24-60e5-4f86-a9f1-963803fcdfa9",
   "metadata": {},
   "outputs": [],
   "source": [
    "import pandas as pd\n"
   ]
  },
  {
   "cell_type": "markdown",
   "id": "5d0c5980-b276-4438-8190-dc82e65b23d1",
   "metadata": {},
   "source": [
    "Now we need to bring in the libraries for computing the periodigram. Both scipy and astropy include periodigram methods. Here we will use the Lombscargle periodigram from astropy (mostly cause it is a bit more user friendly). The scipy routine can sometimes be more general so that is good to be familar with as well."
   ]
  },
  {
   "cell_type": "code",
   "execution_count": 2,
   "id": "f91f49f6-83c2-49b1-a22b-921d86f06ebf",
   "metadata": {},
   "outputs": [],
   "source": [
    "from astropy.timeseries import LombScargle"
   ]
  },
  {
   "cell_type": "markdown",
   "id": "de19bd01-4345-4d69-9438-5c49ba7216a2",
   "metadata": {},
   "source": [
    "Take some time now to go to the <a href=\"https://docs.astropy.org/en/stable/timeseries/lombscargle.html\">astropy documentation</a> (also <a href=\"https://docs.astropy.org/en/stable/api/astropy.timeseries.LombScargle.html#astropy.timeseries.LombScargle\">more docs here</a>)and read about how LombScargle is used. **Being able to comfortably read the documentation of external libraries is an important skill to develop!** There is *a lot* of information in the astropy documentation pages, you do not need to absorb all of it. What I want you to focus on is the practicalities of how this object is used. Pay particular attention to what the arguments to the object are and what methods (functions) you can call on the object. When you are learning to use a new piece of code these are often the first and most important things you want familiarize yourself with.\n",
    "\n",
    "It is **okay** if the documentation is hard to parse through and you have questions! That is totally normal. Like any skill it takes practice. Please come to me when/if you have questions.\n",
    "\n",
    "Once you have spent some time looking through the documentation for the LombScargle periodiogram try to make a periodigram from the data you read in! What you should see is one peak.\n"
   ]
  },
  {
   "cell_type": "code",
   "execution_count": 2,
   "id": "c148d3a6-7aca-4933-b41e-84721edf1a60",
   "metadata": {},
   "outputs": [],
   "source": [
    "# Code here..."
   ]
  },
  {
   "cell_type": "markdown",
   "id": "a77661b5-9151-4667-a24e-3224f4d6d81e",
   "metadata": {},
   "source": [
    "## Q2. Interpreting FTs (1 pts)\n",
    "What is the *period* of the variablility in this light curve? Does this agree with what you would expect from the time series data?"
   ]
  },
  {
   "cell_type": "markdown",
   "id": "4ba2e2c1-f112-491c-86d7-c5d22c8880bc",
   "metadata": {},
   "source": [
    "**Your answer here** (double click to edit):"
   ]
  },
  {
   "cell_type": "markdown",
   "id": "3a0eb6e5-10a4-4622-b325-29946bb7982a",
   "metadata": {},
   "source": [
    "## Q3. Window Function (1 pt)\n",
    "Recall when we calculated the fourier transform of a signal analytically we saw that at the frequencies needed to reporoduce the signal there were dirac delta functions and everywhere else the fourier transform of the function evaluated to 0. Note how that is not the case here. There is a primary peak in frequency space; however, it has some finite width to it and the function is never truley zero. Explain why this is. Note that there are two primary effects at play here. For this question feel free to google around, the search terms discrete fourier transforms and window funtions will get you some relevant results. Also consider the other parts of the synthetic data (aside from just the clear signal)."
   ]
  },
  {
   "cell_type": "markdown",
   "id": "7f819b93-4195-4555-bdec-c5c451277842",
   "metadata": {},
   "source": [
    "**Your answer here** (double click to edit):"
   ]
  },
  {
   "cell_type": "markdown",
   "id": "9016f97d-6978-4933-9bf2-2008a19afb7e",
   "metadata": {},
   "source": [
    "## Q4. Limits of FTs (1 pt)\n",
    "Are there any limits of using freqency space you can think of, just list anything you can think of! "
   ]
  },
  {
   "cell_type": "markdown",
   "id": "da718705-704b-4f2a-a43e-0a50ec876434",
   "metadata": {},
   "source": [
    "**Your answer here** (double click to edit):"
   ]
  },
  {
   "cell_type": "markdown",
   "id": "b7f81d9f-efc3-45c5-9289-b80d32433627",
   "metadata": {},
   "source": [
    "## Q5. Trends in Google Search Data (3 pts)\n",
    "\n",
    "<a href=\"https://trends.google.com/trends/\">Google Trends</a> allows a user to view some normalized version of search interest over time. Try to think of a topic which might have a periodic trend in its search interest (for example \"Olympics\"). Use the Google Trends form to pull up the information on your search then download it and generate a periodigram for it. Do you see a periodic trend in frequency space? Does it agree with what you expected? Do you see any additional trends in the data which you might not have expected? \n",
    "\n",
    "Next, use the trends view to pull up information on a search term which you think that would not exhibit periodic behavior. Use the tools you have learned to generate a periodigram for this data. Do you see any trends which you did not expect? What does the periodigram look like for non periodic behavior? "
   ]
  },
  {
   "cell_type": "code",
   "execution_count": 3,
   "id": "d8911350-8293-484e-9a56-3182c47f49fc",
   "metadata": {},
   "outputs": [],
   "source": [
    "# Code here..."
   ]
  },
  {
   "cell_type": "markdown",
   "id": "9d6aa4e4-c5ac-4eb9-8181-5dd80772beb4",
   "metadata": {},
   "source": [
    "**Your answer here** (double click to edit):"
   ]
  },
  {
   "cell_type": "code",
   "execution_count": null,
   "id": "00c37144-be78-4785-bfd0-8234b9837c31",
   "metadata": {},
   "outputs": [],
   "source": []
  }
 ],
 "metadata": {
  "kernelspec": {
   "display_name": "General",
   "language": "python",
   "name": "general"
  },
  "language_info": {
   "codemirror_mode": {
    "name": "ipython",
    "version": 3
   },
   "file_extension": ".py",
   "mimetype": "text/x-python",
   "name": "python",
   "nbconvert_exporter": "python",
   "pygments_lexer": "ipython3",
   "version": "3.9.7"
  }
 },
 "nbformat": 4,
 "nbformat_minor": 5
}
