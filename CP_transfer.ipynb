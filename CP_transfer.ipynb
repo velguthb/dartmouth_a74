{
 "cells": [
  {
   "cell_type": "markdown",
   "metadata": {},
   "source": [
    "# Radiative Transfer, Transmission and Emission\n",
    "\n",
    "This week we will playing with radiative transfer through a planetary atmosphere, using some more and less realistic models that help demonstrate important concepts about transmission, emission, and global energy balance. Adapted from Zach Berta-Thompson."
   ]
  },
  {
   "cell_type": "code",
   "execution_count": null,
   "metadata": {},
   "outputs": [],
   "source": [
    "import matplotlib.pyplot as plt, numpy as np\n",
    "import astropy.units as u, astropy.constants as c\n",
    "%matplotlib inline"
   ]
  },
  {
   "cell_type": "markdown",
   "metadata": {},
   "source": [
    "It might be useful to store functions and blocks of code in Python [modules](https://jakevdp.github.io/WhirlwindTourOfPython/13-modules-and-packages.html), which you `import` into your notebook and can then use. For example, see the `tools.py` file in this same directory, which contains the functions used in the previous programming project, and the block of code below. Look at `tools.py` to see what functions are available to you to use in this assignment."
   ]
  },
  {
   "cell_type": "code",
   "execution_count": null,
   "metadata": {},
   "outputs": [],
   "source": [
    "import tools\n",
    "w = np.logspace(0,2)*u.um\n",
    "plt.plot(w, tools.planck_flux(w, 500*u.K))\n",
    "plt.xlabel('Wavelength ($\\mu m$)'); plt.ylabel('Flux ($W/m^2/\\mu m$)');"
   ]
  },
  {
   "cell_type": "markdown",
   "metadata": {},
   "source": [
    "### Q1: Transmission through Earth's Atmosphere\n",
    "\n",
    "The file `earthtransmission.txt` contains a model for the fractional transmittance $t_\\lambda$ through Earth's atmosphere, looking straight up from Cerro Paranal in northern Chile. If you want, you can play around and calculate your own models at the [ESO SkyCalc](http://www.eso.org/observing/etc/bin/gen/form?INS.MODE=swspectr+INS.NAME=SKYCALC). This transmittance $t_\\lambda$ is the fraction of light of a given wavelength that makes it through the atmosphere, which we can write as $t_\\lambda = I_\\lambda({\\rm surface})/I_\\lambda({\\rm above~atmosphere})$. "
   ]
  },
  {
   "cell_type": "markdown",
   "metadata": {},
   "source": [
    "+ Plot the transmission through Earth's atmosphere vs. wavelength.\n",
    "\n",
    "+ The photometric filters J, H, and K are commonly used in infrared astronomy. J runs from 1.15 to 1.35$\\mu$m, H from 1.5 to 1.8$\\mu$m, and K from 2 to 2.4$\\mu$m (approximately). Plot a shaded vertical region corresponding to each bandpass (you want the function `plt.axvspan`). Comment briefly on how the bandpasses were defined.\n",
    "\n",
    "+ Challenge question: to what molecule do the absorption features between 1 and 2.5 $\\mu$m correspond?"
   ]
  },
  {
   "cell_type": "code",
   "execution_count": null,
   "metadata": {},
   "outputs": [],
   "source": []
  },
  {
   "cell_type": "markdown",
   "metadata": {},
   "source": [
    "+ Imagine standing on the surface of the Earth with the Sun directly overhead ($\\theta_z = 0^\\circ$, where $\\theta_z$ is the angle away from the zenith). Plot the spectrum of flux we would receive at the surface of the Earth, comparing (in the same plot) the actual flux received to the flux we would receive if there were no atmosphere. (You can approximate the Sun as a perfect thermal emitter with a radius of $1~R_\\odot$ and $T_{\\odot} = (L_\\odot/4\\pi R_\\odot^2\\sigma_{\\rm SB})^{1/4}$, at a distance of $1~AU$.)"
   ]
  },
  {
   "cell_type": "code",
   "execution_count": null,
   "metadata": {},
   "outputs": [],
   "source": []
  },
  {
   "cell_type": "markdown",
   "metadata": {},
   "source": [
    "+ Plot the optical depth $\\tau_\\lambda$ through Earth's atmosphere, considering a vertical path straight up out of the atmopshere. (Regardless of integration direction, quote this as a positive $\\tau$).  You can check the order of magnitude of your plot by considering how the optical depth should vary as transmission goes from small (that is, where the least amount of light is let through) to large.\n"
   ]
  },
  {
   "cell_type": "code",
   "execution_count": null,
   "metadata": {},
   "outputs": [],
   "source": []
  },
  {
   "cell_type": "markdown",
   "metadata": {},
   "source": [
    "<font color='seagreen'>\n",
    "\n",
    "Note that the optical depth exceeds 1 only for fairly deep absorption lines (and pushing into the near-UV). There are many atmospheric windows with $\\tau < 0.1$, meaning on average 1/10 photons interacts with the atmosphere. That's pretty clear!"
   ]
  },
  {
   "cell_type": "markdown",
   "metadata": {},
   "source": [
    "Write an expression for the optical depth along a slant path $\\tau_{\\lambda}(\\theta_z)$, if you are looking an angle $\\theta_z$ away from zenith. This is a simple expression, and you can derive it with one triangle (with leg $s_z$, the zenith distance, and hypotenuse $s$, the distance along the slant path). Express $\\tau_{\\lambda}(\\theta_z)$ in terms of the optical depth for a vertical path through the atmosphere and $\\theta_z$.\n",
    "\n",
    "+ Plot the solar flux at several representive angles of $\\theta_z$ (make sure you get something close to 90 degrees)"
   ]
  },
  {
   "cell_type": "code",
   "execution_count": null,
   "metadata": {},
   "outputs": [],
   "source": []
  },
  {
   "cell_type": "markdown",
   "metadata": {},
   "source": [
    "Earth-bound observational astronomers define the quantity \"airmass\" to be \n",
    "$${\\rm airmass} = \\sec\\theta_z$$\n",
    "where a star that is straight overhead has $\\sec\\theta_z = 1$ and a star on the horizon has $\\sec\\theta_z = \\infty$. Since $\\sec\\theta=1/\\cos\\theta$, the airmass tells us how much atmosphere we are looking through. If something is at very high airmass, we probably want to wait to observe it until it's at low airmass and more light of it's light will make it through the atmosphere."
   ]
  },
  {
   "cell_type": "markdown",
   "metadata": {},
   "source": [
    "We use [the magnitude system](https://en.wikipedia.org/wiki/Apparent_magnitude) to express differences in brightness. A difference in magnitudes corresponds to a logarithm of their brightness ratios, with the definition that\n",
    "$$m_1 - m_0 = -2.5\\log_{10}\\left(\\frac{I_1}{I_0}\\right)$$\n",
    "where $m_1$ and $m_0$ are two magnitudes, and $I_1$ and $I_0$ are the intensities corresponding to those magnitudes. \n",
    "\n",
    "+ Plot the transmission function using magnitudes of extinction as the y axis.\n",
    "\n",
    "+ How many magnitudes of extinction does a star at $\\sec\\theta_z = 5$ experience in the astronomical $V$-filter (with a wavelength of roughly $0.55~\\mu m$)? What about in the $U$-filter ($0.36~\\mu m$)? (You can approximate by reading off the plot, or for a challenge, use interpolation to get the value at any wavelength you choose)."
   ]
  },
  {
   "cell_type": "code",
   "execution_count": null,
   "metadata": {},
   "outputs": [],
   "source": []
  },
  {
   "cell_type": "markdown",
   "metadata": {},
   "source": [
    "<font color='seagreen'>\n",
    "It's hard to do ground-based photometry at $U$!"
   ]
  },
  {
   "cell_type": "markdown",
   "metadata": {},
   "source": [
    "### Q2: Emission from a Planetary Atmosphere\n",
    "\n",
    "In this question, we will play with a toy model for understanding the emission spectrum of a planet (although the basic concept applies equally well to, for example, a nebula or other cloud of gas/dust). \n",
    "\n",
    "Planetary atmospheres are often characterized by the $T-P$ profile, which defines how temperature varies with pressure. Since pressure increases as you go farther down into a planetary atmosphere (assuming hydrostatic equilibrium), the $T-P$ profile characterizes changes in temperature as a function of atmospheric height. Let's imagine a cartoon planetary atmopshere with a $T-P$ profile that follows a power law of the form\n",
    "$$T(P) = T_{\\rm surf}\\left(\\frac{P}{P_{\\rm surf}}\\right)^{x}$$\n",
    "\n",
    "where $P_{\\rm surf}$ and $T_{\\rm surf}$ are the surface pressure and temperature, and $x$ is some exponent."
   ]
  },
  {
   "cell_type": "markdown",
   "metadata": {},
   "source": [
    "+ Derive expressions for $\\tau_\\lambda(P)$ and $T(\\tau_\\lambda)$ in this atmosphere, in terms of  $P$, $\\tau_\\lambda$, $\\kappa_\\lambda$, and $g$ (the gravitational acceleration). You may assume  $\\kappa_\\lambda$ and $g$ to be constant throughout the atmosphere, and the atmosphere to be in hydrostatic equilibrium. Assume a plane-parallel atmosphere.\n",
    "\n",
    "To derive an expression between $\\tau$ and $P$, bring together the equation of hydrostatic balance\n",
    "\n",
    "$$\\frac{dP}{dz} = -\\rho g$$\n",
    "\n",
    "and the definition of optical depth\n",
    "\n",
    "$$d\\tau_\\lambda = - \\kappa_{\\lambda} \\rho dz $$\n",
    "\n",
    "to put in $dz = -dP/\\rho g$ and find\n",
    "\n",
    "$$d\\tau_\\lambda = \\frac{\\kappa_\\lambda}{g} dP$$\n",
    "\n",
    "which we can integrate from the top of the atmosphere downward \n",
    "\n",
    "$$\\int^{\\tau_\\lambda}_{0} d\\tau_\\lambda = \\int^{P}_{0}\\frac{\\kappa_\\lambda}{g} dP$$\n",
    "\n",
    "which (if $\\kappa_\\lambda$ is constant) yields\n",
    "\n",
    "$$\\tau_\\lambda(P) = \\frac{\\kappa_\\lambda}{g} P.$$\n",
    "\n",
    "This is why pressure is such a nice vertical coordinate! It's very directly related to optical depth (and with our definition, $\\tau$ increases with increasing $P$). Now, to find $T(\\tau_{\\lambda})$ we can simply plug in $P = \\tau_\\lambda/\\kappa_\\lambda{g}$ to our cartoon $T-P$ profile and find\n",
    "\n",
    "$$T(P) = T_{\\rm surf}\\left(\\frac{P}{P_{\\rm surf}}\\right)^{x} = T_{\\rm surf}\\left(\\frac{\\tau_\\lambda g}{P_{\\rm surf}\\kappa_\\lambda}\\right)^{x} $$\n",
    "\n",
    "or if we define the quantity \n",
    "\n",
    "$$\\tau_{\\lambda, \\rm surf} = \\frac{\\kappa_\\lambda}{g} P_{\\rm surf}$$\n",
    "\n",
    "to be the optical depth to the surface, then\n",
    "\n",
    "$$T(P) = T_{\\rm surf}\\left(\\frac{\\tau_\\lambda}{\\tau_{\\lambda, \\rm surf} }\\right)^{x}$$\n",
    "\n",
    "where of course $\\tau_{\\lambda, \\rm surf}$ will change from wavelength to wavelength depending on the opacities in the atmosphere. ($\\tau = 0$ corresponds to us observing the atmosphere from above).\n"
   ]
  },
  {
   "cell_type": "markdown",
   "metadata": {},
   "source": [
    "+ Write a Python function that numerically integrates the equation of radiative transfer along a vertical path to determine the outgoing intensity $I_\\lambda(0)$ leaving the top of the planet's atmosphere. Write this as a line-by-line radiative transfer code, meaning that you will calculate the intensity at one wavelength at a time. Effectively, you are numerically integrating Rybicki & Lightman Eq 1.29\n",
    "     + Assume that each layer of the atmosphere emits as a perfect thermal emitter at temperature $T(P)$.\n",
    "     + Assume that the surface emits as a perfect thermal emitter at temperature $T_{\\rm surf}$, so the surface intensity is $I_\\lambda(\\tau_{\\lambda, {\\rm surf}}) = B_\\lambda(T_{\\rm surf})$. Note, it may be helpful to calculate $\\tau_{\\rm surf, \\lambda}$ (the optical depth to the surface). \n",
    "     + Perform this integral for a single wavelength at a time. "
   ]
  },
  {
   "cell_type": "code",
   "execution_count": null,
   "metadata": {},
   "outputs": [],
   "source": [
    "import scipy.integrate\n",
    "\n",
    "def I_outgoing(wave=15*u.um, \n",
    "               P_surf=1*u.bar, \n",
    "               T_surf=280*u.K, \n",
    "               kappa=0.0001*u.m**2/u.kg, ## kappa is constant with wavelength for now\n",
    "               g=10*u.m/u.s**2, \n",
    "               x=1,\n",
    "               plot=False,\n",
    "               tau_min=0.01,  ## things get awkward if you actually go to zero\n",
    "               tau_max=10,\n",
    "               ntau=100):\n",
    "    \n",
    "    \n",
    "    # calculate the optical depth to the surface\n",
    "    tau_surf = (kappa/g*P_surf).decompose() ## decompose cancels out units\n",
    "    if tau_surf <= tau_min:\n",
    "        tau_surf = tau_min\n",
    "\n",
    "    # the first term of the integral radiative transfer equation, Eq 1.29 (==transmitted)\n",
    "    ## YOUR CODE HERE\n",
    "    \n",
    "    # the second term of the integral radiative transfer equation, Eq 1.29 (==emitted)\n",
    "    tau = np.linspace(tau_min, np.minimum(tau_surf, tau_max), ntau)\n",
    "    ## YOUR CODE HERE: what's the integrand? (function of tau, tau defined above)\n",
    "    ## YOUR CODE HERE: use np.trapz to do the integration over tau\n",
    "    \n",
    "    \n",
    "    # this will plot the optical depth versus temperature\n",
    "    if plot:\n",
    "        \n",
    "        print(\"At a wavelength of {}...\".format(wave))\n",
    "        print(\" The original surface intensity is {:.4g}.\".format(I_surf))\n",
    "        print(\" The surface intensity transmitted through the atmosphere is {:.4g}.\".format(transmitted))\n",
    "        print(\" The emitted contribution from the atmosphere is {:.4g}.\".format(emitted))\n",
    "        print(\" The total intensity is {:.4g}.\".format(transmitted + emitted))\n",
    "        print(\"(P_surf={P_surf:.4}, T_surf={T_surf:.4}, kappa={kappa:.4}, g={g:.4}, x={x:+})\".format(**locals()))\n",
    "\n",
    "        T = T_surf*(tau/tau_surf)**x\n",
    "        fig, ax = plt.subplots(figsize=(3,3))\n",
    "        plt.sca(ax)\n",
    "        plt.plot(T, tau, label='$T$ ($K$)')\n",
    "        plt.ylabel(r'$\\tau_\\lambda$')\n",
    "        plt.xlabel('$T$ ($K$)')\n",
    "        \n",
    "    return transmitted + emitted"
   ]
  },
  {
   "cell_type": "markdown",
   "metadata": {},
   "source": [
    "+ Show that you get $I_{\\lambda = 15\\mu m} = 2.37~W/m^2/\\mu m/sr$ for a wavelength of $\\lambda = 15~\\mu m$, if we use values of \n",
    "    + $T_{\\rm surf} = 280~K$\n",
    "    + $P_{\\rm surf} = 1~bar$\n",
    "    + $x=1$\n",
    "    + $\\kappa_\\lambda = 0.0001~m^2/kg$\n",
    "    + $g=10~m/s^2$"
   ]
  },
  {
   "cell_type": "code",
   "execution_count": null,
   "metadata": {},
   "outputs": [],
   "source": [
    "I_outgoing(plot=True, ntau=100, x=1)"
   ]
  },
  {
   "cell_type": "markdown",
   "metadata": {},
   "source": [
    "+ Imagine our atmosphere contains one gas. Let's call it \"ceceliapaynium\". Its mass opacity is given by the function\n",
    "$$\\kappa_\\lambda = \\kappa_c \\exp \\left[-\\frac{1}{2}\\left(\\frac{\\lambda - \\lambda_c}{\\sigma_c}\\right)^2 \\right]$$\n",
    "which is opaque near the center of the line at $\\lambda_c$ and more transparent for wavelengths farther from the line center (this is standard for a single spectral line). We will start out with $\\kappa_c = 0.0001~m^2/kg$, $\\lambda_c = 15~\\mu m$, $\\sigma_c = 1 ~\\mu m$."
   ]
  },
  {
   "cell_type": "code",
   "execution_count": null,
   "metadata": {},
   "outputs": [],
   "source": [
    "def kappa_ceciliapaynium(w, kappa_0=0.0001*u.m**2/u.kg, w_0=15*u.um, sigma_0=1*u.um):\n",
    "    '''\n",
    "    Returns the mass opacity coefficient (m^2/kg) \n",
    "    as a function of wavelength,\n",
    "    for the imaginary molecule ceceliapaynium.\n",
    "    '''\n",
    "    \n",
    "    \n",
    "    return kappa_lambda"
   ]
  },
  {
   "cell_type": "markdown",
   "metadata": {},
   "source": [
    "<font color='seagreen'>\n",
    "The following should get you the same answer as before, since at $w=w_0$, $\\kappa$ is equal to the value we used before:"
   ]
  },
  {
   "cell_type": "code",
   "execution_count": null,
   "metadata": {},
   "outputs": [],
   "source": [
    "w = 15*u.um\n",
    "I_outgoing(plot=True, ntau=100, kappa=kappa_ceciliapaynium(w)) ## supplying the kappa for this wavelength"
   ]
  },
  {
   "cell_type": "markdown",
   "metadata": {},
   "source": [
    "+ Now, let's vary the temperature structure of the atmosphere. Plot the outgoing intensity spectra for the three cases of $x=(-1, 0, 1)$, with at least 100 wavelengths spanning $1-100~\\mu m$. \n",
    "\n",
    "To do this properly and maintain the right units (unlike in the last project!) create an array I as an array of zeros with the right units. To set each element, use `I[i] += {value}` where value also has the right units.\n"
   ]
  },
  {
   "cell_type": "code",
   "execution_count": null,
   "metadata": {},
   "outputs": [],
   "source": []
  },
  {
   "cell_type": "markdown",
   "metadata": {},
   "source": [
    "+ Discuss qualitatively how the appearance of the absorption or emission feature relates to the vertical temperature profile (think about which layer is hotter and which is colder in each temperature profile; you may want to refer to Kirchoff's law--not the one in our textbook, but the one you learned in intro astronomy)."
   ]
  },
  {
   "cell_type": "markdown",
   "metadata": {},
   "source": [
    "<font color='seagreen'>\n",
    "Double click to respond."
   ]
  }
 ],
 "metadata": {
  "anaconda-cloud": {},
  "kernelspec": {
   "display_name": "Python 3 (ipykernel)",
   "language": "python",
   "name": "python3"
  },
  "language_info": {
   "codemirror_mode": {
    "name": "ipython",
    "version": 3
   },
   "file_extension": ".py",
   "mimetype": "text/x-python",
   "name": "python",
   "nbconvert_exporter": "python",
   "pygments_lexer": "ipython3",
   "version": "3.8.12"
  }
 },
 "nbformat": 4,
 "nbformat_minor": 2
}
